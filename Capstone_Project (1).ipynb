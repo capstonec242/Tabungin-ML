{
  "nbformat": 4,
  "nbformat_minor": 0,
  "metadata": {
    "colab": {
      "provenance": []
    },
    "kernelspec": {
      "name": "python3",
      "display_name": "Python 3"
    },
    "language_info": {
      "name": "python"
    }
  },
  "cells": [
    {
      "cell_type": "code",
      "source": [
        "import pandas as pd\n",
        "import tensorflow as tf\n",
        "from sklearn.model_selection import train_test_split\n",
        "from sklearn.preprocessing import StandardScaler\n",
        "from sklearn.metrics import classification_report"
      ],
      "metadata": {
        "id": "1BEd-W4tGhor"
      },
      "execution_count": 1,
      "outputs": []
    },
    {
      "cell_type": "code",
      "source": [
        "# Muat dan siapkan data\n",
        "file_path = '/content/data (2).csv'\n",
        "data = pd.read_csv(file_path)\n",
        "\n",
        "# Membuat fitur dan label\n",
        "X = data[['Income', 'Age', 'Dependents', 'Rent', 'Loan_Repayment', 'Insurance', 'Groceries',\n",
        "          'Transport', 'Eating_Out', 'Entertainment', 'Utilities', 'Healthcare', 'Education',\n",
        "          'Miscellaneous']]\n",
        "y = (data['Disposable_Income'] >= data['Desired_Savings']).astype(int)  # 1 if on track, 0 if off track\n",
        "\n",
        "# Split the data\n",
        "X_train, X_test, y_train, y_test = train_test_split(X, y, test_size=0.2, random_state=42)\n",
        "\n",
        "# Standardize features\n",
        "scaler = StandardScaler()\n",
        "X_train = scaler.fit_transform(X_train)\n",
        "X_test = scaler.transform(X_test)"
      ],
      "metadata": {
        "id": "dz-J9t-9GlY-"
      },
      "execution_count": 3,
      "outputs": []
    },
    {
      "cell_type": "code",
      "source": [
        "# Nilai kurs (1 USD ke IDR)\n",
        "usd_to_idr = 15000\n",
        "\n",
        "# Daftar kolom yang akan dikonversi\n",
        "columns_to_convert = [\n",
        "    'Income', 'Rent', 'Loan_Repayment', 'Insurance', 'Groceries', 'Transport',\n",
        "    'Eating_Out', 'Entertainment', 'Utilities', 'Healthcare', 'Education',\n",
        "    'Miscellaneous', 'Desired_Savings_Percentage', 'Desired_Savings',\n",
        "    'Disposable_Income', 'Potential_Savings_Groceries',\n",
        "    'Potential_Savings_Transport', 'Potential_Savings_Eating_Out',\n",
        "    'Potential_Savings_Entertainment', 'Potential_Savings_Utilities',\n",
        "    'Potential_Savings_Healthcare', 'Potential_Savings_Education',\n",
        "    'Potential_Savings_Miscellaneous'\n",
        "]\n",
        "\n",
        "# Konversi dolar ke rupiah\n",
        "data[columns_to_convert] = data[columns_to_convert] * usd_to_idr\n",
        "# Mengatur format tampilan angka menjadi notasi ilmiah dengan 2 angka di belakang koma\n",
        "pd.set_option('display.float_format', '{:.2e}'.format)"
      ],
      "metadata": {
        "id": "Mzqau8rwVBNX"
      },
      "execution_count": 4,
      "outputs": []
    },
    {
      "cell_type": "markdown",
      "source": [],
      "metadata": {
        "id": "Z1AW1TE5C1Wk"
      }
    },
    {
      "cell_type": "code",
      "source": [
        "# Tentukan model TensorFlow\n",
        "model = tf.keras.Sequential([\n",
        "    tf.keras.layers.Dense(64, activation='relu', input_shape=(X_train.shape[1],)),\n",
        "    tf.keras.layers.Dense(32, activation='relu'),\n",
        "    tf.keras.layers.Dense(16, activation='relu'),\n",
        "    tf.keras.layers.Dense(1, activation='sigmoid')\n",
        "])\n",
        "\n",
        "# Mengkompilasi model\n",
        "model.compile(optimizer='adam', loss='binary_crossentropy', metrics=['accuracy'])\n",
        "\n",
        "# Melatih model\n",
        "history = model.fit(X_train, y_train, epochs=50, validation_data=(X_test, y_test), batch_size=32, verbose=1)\n",
        "\n",
        "# Mengevaluasi model\n",
        "test_loss, test_accuracy = model.evaluate(X_test, y_test, verbose=1)\n",
        "print(f\"Test accuracy: {test_accuracy:.2f}\")"
      ],
      "metadata": {
        "id": "dB1pbhF0FIwb",
        "colab": {
          "base_uri": "https://localhost:8080/"
        },
        "outputId": "a384ff7b-c221-4ec5-d460-e2583d6b4e2c"
      },
      "execution_count": 5,
      "outputs": [
        {
          "output_type": "stream",
          "name": "stdout",
          "text": [
            "Epoch 1/50\n"
          ]
        },
        {
          "output_type": "stream",
          "name": "stderr",
          "text": [
            "/usr/local/lib/python3.10/dist-packages/keras/src/layers/core/dense.py:87: UserWarning: Do not pass an `input_shape`/`input_dim` argument to a layer. When using Sequential models, prefer using an `Input(shape)` object as the first layer in the model instead.\n",
            "  super().__init__(activity_regularizer=activity_regularizer, **kwargs)\n"
          ]
        },
        {
          "output_type": "stream",
          "name": "stdout",
          "text": [
            "\u001b[1m500/500\u001b[0m \u001b[32m━━━━━━━━━━━━━━━━━━━━\u001b[0m\u001b[37m\u001b[0m \u001b[1m2s\u001b[0m 2ms/step - accuracy: 0.9727 - loss: 0.1650 - val_accuracy: 0.9918 - val_loss: 0.0468\n",
            "Epoch 2/50\n",
            "\u001b[1m500/500\u001b[0m \u001b[32m━━━━━━━━━━━━━━━━━━━━\u001b[0m\u001b[37m\u001b[0m \u001b[1m1s\u001b[0m 2ms/step - accuracy: 0.9943 - loss: 0.0297 - val_accuracy: 0.9918 - val_loss: 0.0354\n",
            "Epoch 3/50\n",
            "\u001b[1m500/500\u001b[0m \u001b[32m━━━━━━━━━━━━━━━━━━━━\u001b[0m\u001b[37m\u001b[0m \u001b[1m1s\u001b[0m 2ms/step - accuracy: 0.9953 - loss: 0.0218 - val_accuracy: 0.9918 - val_loss: 0.0351\n",
            "Epoch 4/50\n",
            "\u001b[1m500/500\u001b[0m \u001b[32m━━━━━━━━━━━━━━━━━━━━\u001b[0m\u001b[37m\u001b[0m \u001b[1m2s\u001b[0m 2ms/step - accuracy: 0.9949 - loss: 0.0204 - val_accuracy: 0.9918 - val_loss: 0.0344\n",
            "Epoch 5/50\n",
            "\u001b[1m500/500\u001b[0m \u001b[32m━━━━━━━━━━━━━━━━━━━━\u001b[0m\u001b[37m\u001b[0m \u001b[1m3s\u001b[0m 5ms/step - accuracy: 0.9952 - loss: 0.0181 - val_accuracy: 0.9918 - val_loss: 0.0352\n",
            "Epoch 6/50\n",
            "\u001b[1m500/500\u001b[0m \u001b[32m━━━━━━━━━━━━━━━━━━━━\u001b[0m\u001b[37m\u001b[0m \u001b[1m5s\u001b[0m 4ms/step - accuracy: 0.9961 - loss: 0.0165 - val_accuracy: 0.9918 - val_loss: 0.0287\n",
            "Epoch 7/50\n",
            "\u001b[1m500/500\u001b[0m \u001b[32m━━━━━━━━━━━━━━━━━━━━\u001b[0m\u001b[37m\u001b[0m \u001b[1m3s\u001b[0m 4ms/step - accuracy: 0.9949 - loss: 0.0176 - val_accuracy: 0.9918 - val_loss: 0.0331\n",
            "Epoch 8/50\n",
            "\u001b[1m500/500\u001b[0m \u001b[32m━━━━━━━━━━━━━━━━━━━━\u001b[0m\u001b[37m\u001b[0m \u001b[1m2s\u001b[0m 3ms/step - accuracy: 0.9947 - loss: 0.0178 - val_accuracy: 0.9918 - val_loss: 0.0361\n",
            "Epoch 9/50\n",
            "\u001b[1m500/500\u001b[0m \u001b[32m━━━━━━━━━━━━━━━━━━━━\u001b[0m\u001b[37m\u001b[0m \u001b[1m2s\u001b[0m 2ms/step - accuracy: 0.9941 - loss: 0.0175 - val_accuracy: 0.9918 - val_loss: 0.0317\n",
            "Epoch 10/50\n",
            "\u001b[1m500/500\u001b[0m \u001b[32m━━━━━━━━━━━━━━━━━━━━\u001b[0m\u001b[37m\u001b[0m \u001b[1m1s\u001b[0m 2ms/step - accuracy: 0.9954 - loss: 0.0155 - val_accuracy: 0.9918 - val_loss: 0.0264\n",
            "Epoch 11/50\n",
            "\u001b[1m500/500\u001b[0m \u001b[32m━━━━━━━━━━━━━━━━━━━━\u001b[0m\u001b[37m\u001b[0m \u001b[1m2s\u001b[0m 2ms/step - accuracy: 0.9947 - loss: 0.0146 - val_accuracy: 0.9918 - val_loss: 0.0261\n",
            "Epoch 12/50\n",
            "\u001b[1m500/500\u001b[0m \u001b[32m━━━━━━━━━━━━━━━━━━━━\u001b[0m\u001b[37m\u001b[0m \u001b[1m2s\u001b[0m 3ms/step - accuracy: 0.9947 - loss: 0.0153 - val_accuracy: 0.9918 - val_loss: 0.0280\n",
            "Epoch 13/50\n",
            "\u001b[1m500/500\u001b[0m \u001b[32m━━━━━━━━━━━━━━━━━━━━\u001b[0m\u001b[37m\u001b[0m \u001b[1m2s\u001b[0m 2ms/step - accuracy: 0.9955 - loss: 0.0115 - val_accuracy: 0.9918 - val_loss: 0.0274\n",
            "Epoch 14/50\n",
            "\u001b[1m500/500\u001b[0m \u001b[32m━━━━━━━━━━━━━━━━━━━━\u001b[0m\u001b[37m\u001b[0m \u001b[1m1s\u001b[0m 2ms/step - accuracy: 0.9951 - loss: 0.0126 - val_accuracy: 0.9930 - val_loss: 0.0291\n",
            "Epoch 15/50\n",
            "\u001b[1m500/500\u001b[0m \u001b[32m━━━━━━━━━━━━━━━━━━━━\u001b[0m\u001b[37m\u001b[0m \u001b[1m1s\u001b[0m 2ms/step - accuracy: 0.9959 - loss: 0.0110 - val_accuracy: 0.9930 - val_loss: 0.0256\n",
            "Epoch 16/50\n",
            "\u001b[1m500/500\u001b[0m \u001b[32m━━━━━━━━━━━━━━━━━━━━\u001b[0m\u001b[37m\u001b[0m \u001b[1m1s\u001b[0m 2ms/step - accuracy: 0.9947 - loss: 0.0138 - val_accuracy: 0.9930 - val_loss: 0.0279\n",
            "Epoch 17/50\n",
            "\u001b[1m500/500\u001b[0m \u001b[32m━━━━━━━━━━━━━━━━━━━━\u001b[0m\u001b[37m\u001b[0m \u001b[1m1s\u001b[0m 2ms/step - accuracy: 0.9953 - loss: 0.0126 - val_accuracy: 0.9930 - val_loss: 0.0275\n",
            "Epoch 18/50\n",
            "\u001b[1m500/500\u001b[0m \u001b[32m━━━━━━━━━━━━━━━━━━━━\u001b[0m\u001b[37m\u001b[0m \u001b[1m1s\u001b[0m 2ms/step - accuracy: 0.9960 - loss: 0.0103 - val_accuracy: 0.9935 - val_loss: 0.0304\n",
            "Epoch 19/50\n",
            "\u001b[1m500/500\u001b[0m \u001b[32m━━━━━━━━━━━━━━━━━━━━\u001b[0m\u001b[37m\u001b[0m \u001b[1m1s\u001b[0m 2ms/step - accuracy: 0.9967 - loss: 0.0088 - val_accuracy: 0.9927 - val_loss: 0.0288\n",
            "Epoch 20/50\n",
            "\u001b[1m500/500\u001b[0m \u001b[32m━━━━━━━━━━━━━━━━━━━━\u001b[0m\u001b[37m\u001b[0m \u001b[1m1s\u001b[0m 2ms/step - accuracy: 0.9976 - loss: 0.0076 - val_accuracy: 0.9923 - val_loss: 0.0363\n",
            "Epoch 21/50\n",
            "\u001b[1m500/500\u001b[0m \u001b[32m━━━━━━━━━━━━━━━━━━━━\u001b[0m\u001b[37m\u001b[0m \u001b[1m2s\u001b[0m 3ms/step - accuracy: 0.9973 - loss: 0.0082 - val_accuracy: 0.9930 - val_loss: 0.0223\n",
            "Epoch 22/50\n",
            "\u001b[1m500/500\u001b[0m \u001b[32m━━━━━━━━━━━━━━━━━━━━\u001b[0m\u001b[37m\u001b[0m \u001b[1m2s\u001b[0m 2ms/step - accuracy: 0.9969 - loss: 0.0074 - val_accuracy: 0.9940 - val_loss: 0.0261\n",
            "Epoch 23/50\n",
            "\u001b[1m500/500\u001b[0m \u001b[32m━━━━━━━━━━━━━━━━━━━━\u001b[0m\u001b[37m\u001b[0m \u001b[1m2s\u001b[0m 3ms/step - accuracy: 0.9976 - loss: 0.0086 - val_accuracy: 0.9935 - val_loss: 0.0306\n",
            "Epoch 24/50\n",
            "\u001b[1m500/500\u001b[0m \u001b[32m━━━━━━━━━━━━━━━━━━━━\u001b[0m\u001b[37m\u001b[0m \u001b[1m1s\u001b[0m 3ms/step - accuracy: 0.9970 - loss: 0.0078 - val_accuracy: 0.9942 - val_loss: 0.0234\n",
            "Epoch 25/50\n",
            "\u001b[1m500/500\u001b[0m \u001b[32m━━━━━━━━━━━━━━━━━━━━\u001b[0m\u001b[37m\u001b[0m \u001b[1m2s\u001b[0m 2ms/step - accuracy: 0.9971 - loss: 0.0075 - val_accuracy: 0.9945 - val_loss: 0.0237\n",
            "Epoch 26/50\n",
            "\u001b[1m500/500\u001b[0m \u001b[32m━━━━━━━━━━━━━━━━━━━━\u001b[0m\u001b[37m\u001b[0m \u001b[1m1s\u001b[0m 2ms/step - accuracy: 0.9981 - loss: 0.0084 - val_accuracy: 0.9905 - val_loss: 0.0511\n",
            "Epoch 27/50\n",
            "\u001b[1m500/500\u001b[0m \u001b[32m━━━━━━━━━━━━━━━━━━━━\u001b[0m\u001b[37m\u001b[0m \u001b[1m1s\u001b[0m 2ms/step - accuracy: 0.9974 - loss: 0.0087 - val_accuracy: 0.9937 - val_loss: 0.0295\n",
            "Epoch 28/50\n",
            "\u001b[1m500/500\u001b[0m \u001b[32m━━━━━━━━━━━━━━━━━━━━\u001b[0m\u001b[37m\u001b[0m \u001b[1m2s\u001b[0m 2ms/step - accuracy: 0.9979 - loss: 0.0062 - val_accuracy: 0.9942 - val_loss: 0.0246\n",
            "Epoch 29/50\n",
            "\u001b[1m500/500\u001b[0m \u001b[32m━━━━━━━━━━━━━━━━━━━━\u001b[0m\u001b[37m\u001b[0m \u001b[1m2s\u001b[0m 3ms/step - accuracy: 0.9977 - loss: 0.0072 - val_accuracy: 0.9927 - val_loss: 0.0263\n",
            "Epoch 30/50\n",
            "\u001b[1m500/500\u001b[0m \u001b[32m━━━━━━━━━━━━━━━━━━━━\u001b[0m\u001b[37m\u001b[0m \u001b[1m2s\u001b[0m 2ms/step - accuracy: 0.9985 - loss: 0.0051 - val_accuracy: 0.9948 - val_loss: 0.0219\n",
            "Epoch 31/50\n",
            "\u001b[1m500/500\u001b[0m \u001b[32m━━━━━━━━━━━━━━━━━━━━\u001b[0m\u001b[37m\u001b[0m \u001b[1m1s\u001b[0m 2ms/step - accuracy: 0.9986 - loss: 0.0042 - val_accuracy: 0.9948 - val_loss: 0.0175\n",
            "Epoch 32/50\n",
            "\u001b[1m500/500\u001b[0m \u001b[32m━━━━━━━━━━━━━━━━━━━━\u001b[0m\u001b[37m\u001b[0m \u001b[1m1s\u001b[0m 2ms/step - accuracy: 0.9980 - loss: 0.0058 - val_accuracy: 0.9937 - val_loss: 0.0220\n",
            "Epoch 33/50\n",
            "\u001b[1m500/500\u001b[0m \u001b[32m━━━━━━━━━━━━━━━━━━━━\u001b[0m\u001b[37m\u001b[0m \u001b[1m1s\u001b[0m 2ms/step - accuracy: 0.9982 - loss: 0.0057 - val_accuracy: 0.9905 - val_loss: 0.0340\n",
            "Epoch 34/50\n",
            "\u001b[1m500/500\u001b[0m \u001b[32m━━━━━━━━━━━━━━━━━━━━\u001b[0m\u001b[37m\u001b[0m \u001b[1m1s\u001b[0m 2ms/step - accuracy: 0.9965 - loss: 0.0096 - val_accuracy: 0.9935 - val_loss: 0.0246\n",
            "Epoch 35/50\n",
            "\u001b[1m500/500\u001b[0m \u001b[32m━━━━━━━━━━━━━━━━━━━━\u001b[0m\u001b[37m\u001b[0m \u001b[1m1s\u001b[0m 2ms/step - accuracy: 0.9982 - loss: 0.0057 - val_accuracy: 0.9948 - val_loss: 0.0171\n",
            "Epoch 36/50\n",
            "\u001b[1m500/500\u001b[0m \u001b[32m━━━━━━━━━━━━━━━━━━━━\u001b[0m\u001b[37m\u001b[0m \u001b[1m1s\u001b[0m 2ms/step - accuracy: 0.9984 - loss: 0.0059 - val_accuracy: 0.9942 - val_loss: 0.0228\n",
            "Epoch 37/50\n",
            "\u001b[1m500/500\u001b[0m \u001b[32m━━━━━━━━━━━━━━━━━━━━\u001b[0m\u001b[37m\u001b[0m \u001b[1m1s\u001b[0m 2ms/step - accuracy: 0.9980 - loss: 0.0060 - val_accuracy: 0.9942 - val_loss: 0.0186\n",
            "Epoch 38/50\n",
            "\u001b[1m500/500\u001b[0m \u001b[32m━━━━━━━━━━━━━━━━━━━━\u001b[0m\u001b[37m\u001b[0m \u001b[1m1s\u001b[0m 3ms/step - accuracy: 0.9986 - loss: 0.0041 - val_accuracy: 0.9952 - val_loss: 0.0199\n",
            "Epoch 39/50\n",
            "\u001b[1m500/500\u001b[0m \u001b[32m━━━━━━━━━━━━━━━━━━━━\u001b[0m\u001b[37m\u001b[0m \u001b[1m2s\u001b[0m 2ms/step - accuracy: 0.9985 - loss: 0.0068 - val_accuracy: 0.9933 - val_loss: 0.0237\n",
            "Epoch 40/50\n",
            "\u001b[1m500/500\u001b[0m \u001b[32m━━━━━━━━━━━━━━━━━━━━\u001b[0m\u001b[37m\u001b[0m \u001b[1m1s\u001b[0m 2ms/step - accuracy: 0.9974 - loss: 0.0080 - val_accuracy: 0.9942 - val_loss: 0.0336\n",
            "Epoch 41/50\n",
            "\u001b[1m500/500\u001b[0m \u001b[32m━━━━━━━━━━━━━━━━━━━━\u001b[0m\u001b[37m\u001b[0m \u001b[1m1s\u001b[0m 2ms/step - accuracy: 0.9981 - loss: 0.0073 - val_accuracy: 0.9955 - val_loss: 0.0130\n",
            "Epoch 42/50\n",
            "\u001b[1m500/500\u001b[0m \u001b[32m━━━━━━━━━━━━━━━━━━━━\u001b[0m\u001b[37m\u001b[0m \u001b[1m1s\u001b[0m 2ms/step - accuracy: 0.9980 - loss: 0.0055 - val_accuracy: 0.9945 - val_loss: 0.0170\n",
            "Epoch 43/50\n",
            "\u001b[1m500/500\u001b[0m \u001b[32m━━━━━━━━━━━━━━━━━━━━\u001b[0m\u001b[37m\u001b[0m \u001b[1m1s\u001b[0m 2ms/step - accuracy: 0.9986 - loss: 0.0038 - val_accuracy: 0.9960 - val_loss: 0.0120\n",
            "Epoch 44/50\n",
            "\u001b[1m500/500\u001b[0m \u001b[32m━━━━━━━━━━━━━━━━━━━━\u001b[0m\u001b[37m\u001b[0m \u001b[1m1s\u001b[0m 2ms/step - accuracy: 0.9986 - loss: 0.0044 - val_accuracy: 0.9955 - val_loss: 0.0148\n",
            "Epoch 45/50\n",
            "\u001b[1m500/500\u001b[0m \u001b[32m━━━━━━━━━━━━━━━━━━━━\u001b[0m\u001b[37m\u001b[0m \u001b[1m1s\u001b[0m 2ms/step - accuracy: 0.9982 - loss: 0.0058 - val_accuracy: 0.9950 - val_loss: 0.0230\n",
            "Epoch 46/50\n",
            "\u001b[1m500/500\u001b[0m \u001b[32m━━━━━━━━━━━━━━━━━━━━\u001b[0m\u001b[37m\u001b[0m \u001b[1m1s\u001b[0m 2ms/step - accuracy: 0.9983 - loss: 0.0048 - val_accuracy: 0.9952 - val_loss: 0.0189\n",
            "Epoch 47/50\n",
            "\u001b[1m500/500\u001b[0m \u001b[32m━━━━━━━━━━━━━━━━━━━━\u001b[0m\u001b[37m\u001b[0m \u001b[1m1s\u001b[0m 2ms/step - accuracy: 0.9989 - loss: 0.0040 - val_accuracy: 0.9935 - val_loss: 0.0178\n",
            "Epoch 48/50\n",
            "\u001b[1m500/500\u001b[0m \u001b[32m━━━━━━━━━━━━━━━━━━━━\u001b[0m\u001b[37m\u001b[0m \u001b[1m2s\u001b[0m 3ms/step - accuracy: 0.9957 - loss: 0.0157 - val_accuracy: 0.9952 - val_loss: 0.0140\n",
            "Epoch 49/50\n",
            "\u001b[1m500/500\u001b[0m \u001b[32m━━━━━━━━━━━━━━━━━━━━\u001b[0m\u001b[37m\u001b[0m \u001b[1m2s\u001b[0m 2ms/step - accuracy: 0.9985 - loss: 0.0055 - val_accuracy: 0.9952 - val_loss: 0.0139\n",
            "Epoch 50/50\n",
            "\u001b[1m500/500\u001b[0m \u001b[32m━━━━━━━━━━━━━━━━━━━━\u001b[0m\u001b[37m\u001b[0m \u001b[1m1s\u001b[0m 2ms/step - accuracy: 0.9981 - loss: 0.0047 - val_accuracy: 0.9942 - val_loss: 0.0176\n",
            "\u001b[1m125/125\u001b[0m \u001b[32m━━━━━━━━━━━━━━━━━━━━\u001b[0m\u001b[37m\u001b[0m \u001b[1m0s\u001b[0m 1ms/step - accuracy: 0.9946 - loss: 0.0158\n",
            "Test accuracy: 0.99\n"
          ]
        }
      ]
    },
    {
      "cell_type": "code",
      "source": [
        "def savings_reminder_user_input():\n",
        "    # Collect user input\n",
        "    print(\"Silakan masukkan detail keuangan Anda di bawah ini:\")\n",
        "    income = float(input(\"Pendapatan Bulanan (IDR): \"))\n",
        "    age = int(input(\"Umur: \"))\n",
        "    dependents = int(input(\"Jumlah Tanggungan: \"))\n",
        "    rent = float(input(\"Sewa Bulanan (IDR): \"))\n",
        "    loan_repayment = float(input(\"Pembayaran Pinjaman Bulanan (IDR): \"))\n",
        "    insurance = float(input(\"Biaya Asuransi Bulanan (IDR): \"))\n",
        "    groceries = float(input(\"Biaya Bahan Makanan Bulanan (IDR): \"))\n",
        "    transport = float(input(\"Biaya Transportasi Bulanan (IDR): \"))\n",
        "    eating_out = float(input(\"Biaya Makan di Luar Bulanan (IDR): \"))\n",
        "    entertainment = float(input(\"Biaya Hiburan Bulanan (IDR): \"))\n",
        "    utilities = float(input(\"Biaya Utilitas Bulanan (IDR): \"))\n",
        "    healthcare = float(input(\"Biaya Perawatan Kesehatan Bulanan (IDR): \"))\n",
        "    education = float(input(\"Biaya Pendidikan Bulanan (IDR): \"))\n",
        "    miscellaneous = float(input(\"Biaya Lain-lain Bulanan (IDR): \"))\n",
        "\n",
        "    # Hitung total pengeluaran\n",
        "    total_expenditure = (rent + loan_repayment + insurance + groceries + transport +\n",
        "                         eating_out + entertainment + utilities + healthcare +\n",
        "                         education + miscellaneous)\n",
        "\n",
        "    # Hitung sisa pendapatan setelah pengeluaran\n",
        "    remaining_income = income - total_expenditure\n",
        "\n",
        "    # Tampilkan hasil keuangan dalam format IDR\n",
        "    print(\"\\nDetail Keuangan Anda:\")\n",
        "    print(f\"🔹 Total Pendapatan Bulanan: IDR {income:,.2f}\")\n",
        "    print(f\"🔹 Total Pengeluaran Bulanan: IDR {total_expenditure:,.2f}\")\n",
        "    print(f\"🔹 Sisa Pendapatan Setelah Pengeluaran: IDR {remaining_income:,.2f}\")\n",
        "\n",
        "    # Logika sederhana untuk memeriksa apakah pengeluaran lebih besar dari pendapatan\n",
        "    if total_expenditure > income:\n",
        "        print(\"\\n⚠️ Pengeluaran Anda lebih besar dari pendapatan! Anda perlu menyesuaikan anggaran.\")\n",
        "        print(\"Coba kurangi pengeluaran di kategori seperti hiburan, makan di luar, atau lain-lain.\")\n",
        "        return\n",
        "\n",
        "    # Mempersiapkan data masukan untuk prediksi (contoh ini bergantung pada model Anda)\n",
        "    # Pastikan X.columns dan scaler sudah didefinisikan sebelumnya\n",
        "    try:\n",
        "        user_data = pd.DataFrame([[income, age, dependents, rent, loan_repayment, insurance, groceries,\n",
        "                                   transport, eating_out, entertainment, utilities, healthcare,\n",
        "                                   education, miscellaneous]],\n",
        "                                 columns=X.columns)\n",
        "\n",
        "        # Skala data sebelum prediksi\n",
        "        user_data_scaled = scaler.transform(user_data)\n",
        "\n",
        "        # Memprediksi status tabungan menggunakan model\n",
        "        prediction = model.predict(user_data_scaled)[0][0]\n",
        "        status = \"On Track\" if prediction >= 0.5 else \"Needs Attention\"\n",
        "\n",
        "        # Display hasil prediksi\n",
        "        if status == \"On Track\":\n",
        "            print(\"\\n✅ Anda berada di jalur yang tepat dengan tujuan tabungan Anda. Pertahankan!\")\n",
        "        else:\n",
        "            print(\"\\n⚠️ Anda perlu menabung lebih banyak untuk mencapai target tabungan Anda.\")\n",
        "            print(\"Pertimbangkan untuk mengurangi pengeluaran dalam kategori seperti hiburan, makan di luar, atau lain-lain untuk meningkatkan tabungan Anda.\")\n",
        "    except Exception as e:\n",
        "        print(\"\\n⚠️ Tidak dapat melakukan prediksi. Pastikan model dan scaler sudah disiapkan dengan benar.\")\n",
        "        print(f\"Error: {e}\")\n",
        "\n",
        "# Panggil fungsi untuk uji coba\n",
        "# savings_reminder_user_input()\n"
      ],
      "metadata": {
        "id": "MexBjfC5GwaB"
      },
      "execution_count": 6,
      "outputs": []
    },
    {
      "cell_type": "code",
      "source": [
        "\n",
        "# Panggil fungsi untuk mulai mengambil input pengguna dan memberikan saran tabungan\n",
        "savings_reminder_user_input( )"
      ],
      "metadata": {
        "id": "i-lGWPM-FKYu",
        "colab": {
          "base_uri": "https://localhost:8080/"
        },
        "outputId": "18963414-9e9c-41a1-c8be-402295519299"
      },
      "execution_count": 7,
      "outputs": [
        {
          "output_type": "stream",
          "name": "stdout",
          "text": [
            "Silakan masukkan detail keuangan Anda di bawah ini:\n",
            "Pendapatan Bulanan (IDR): 20000000\n",
            "Umur: 35\n",
            "Jumlah Tanggungan: 3\n",
            "Sewa Bulanan (IDR): 5000000\n",
            "Pembayaran Pinjaman Bulanan (IDR): 500000\n",
            "Biaya Asuransi Bulanan (IDR): 1000000\n",
            "Biaya Bahan Makanan Bulanan (IDR): 4000000\n",
            "Biaya Transportasi Bulanan (IDR): 500000\n",
            "Biaya Makan di Luar Bulanan (IDR): 500000\n",
            "Biaya Hiburan Bulanan (IDR): 500000\n",
            "Biaya Utilitas Bulanan (IDR): 350000\n",
            "Biaya Perawatan Kesehatan Bulanan (IDR): 300000\n",
            "Biaya Pendidikan Bulanan (IDR): 2500000\n",
            "Biaya Lain-lain Bulanan (IDR): 1000000\n",
            "\n",
            "Detail Keuangan Anda:\n",
            "🔹 Total Pendapatan Bulanan: IDR 20,000,000.00\n",
            "🔹 Total Pengeluaran Bulanan: IDR 16,150,000.00\n",
            "🔹 Sisa Pendapatan Setelah Pengeluaran: IDR 3,850,000.00\n",
            "\u001b[1m1/1\u001b[0m \u001b[32m━━━━━━━━━━━━━━━━━━━━\u001b[0m\u001b[37m\u001b[0m \u001b[1m0s\u001b[0m 52ms/step\n",
            "\n",
            "✅ Anda berada di jalur yang tepat dengan tujuan tabungan Anda. Pertahankan!\n"
          ]
        }
      ]
    },
    {
      "cell_type": "code",
      "source": [],
      "metadata": {
        "id": "hD2dJ5wfm2Z-"
      },
      "execution_count": null,
      "outputs": []
    },
    {
      "cell_type": "code",
      "source": [],
      "metadata": {
        "id": "_8Diqyq7G2mJ"
      },
      "execution_count": null,
      "outputs": []
    }
  ]
}